{
 "cells": [
  {
   "cell_type": "code",
   "execution_count": 1,
   "metadata": {},
   "outputs": [],
   "source": [
    "import os\n",
    "import re\n",
    "import pickle\n",
    "from statistics import *\n",
    "import tensorflow as tf\n",
    "from tensorflow import keras\n",
    "from random import shuffle\n",
    "\n",
    "import numpy as np\n",
    "\n",
    "print(tf.__version__)\n",
    "\n",
    "aminoacids = [\"ALA\", \"CYS\", \"ASP\", \"GLU\", \"PHE\", \"GLY\", \"HIS\", \"ILE\", \"LYS\", \"LEU\", \"MET\", \"ASN\", \"PRO\", \"GLN\", \"ARG\", \"SER\", \"THR\", \"VAL\", \"TRP\", \"TYR\"]\n",
    "aminoacid_dict = {}\n",
    "for number, aminoacid in enumerate(aminoacids):\n",
    "    aminoacid_dict[aminoacid] = number\n",
    "    \n",
    "print(len(aminoacids))\n",
    "print(aminoacid_dict)"
   ]
  },
  {
   "cell_type": "code",
   "execution_count": null,
   "metadata": {},
   "outputs": [],
   "source": [
    "f = open(\"sites.txt\", \"r\") \n",
    "\n",
    "residues = []\n",
    "\n",
    "def add(entry):\n",
    "    if entry in aminoacids and len(entry) == 3:\n",
    "        residues[-1].append(entry)\n",
    "        \n",
    "\n",
    "for line in f.readlines():\n",
    "    if line == \"\\n\":\n",
    "        residues.append([])\n",
    "    if line.__contains__(\"SITE\"):\n",
    "        add(line[18:21])\n",
    "        if not line[29:32].__contains__(\" \"):\n",
    "            add(line[29:32])\n",
    "        if not line[41:44].__contains__(\" \"):\n",
    "            add(line[41:44])\n",
    "\n",
    "residues = list(filter(lambda a: a!=[], residues))\n",
    "\n",
    "total = 0\n",
    "lengths = []\n",
    "data = []\n",
    "past = []\n",
    "\n",
    "for residue in residues:\n",
    "    total += len(residue)\n",
    "    lengths.append(len(residue))\n",
    "    n = 0 \n",
    "    if len(residue) > 11:\n",
    "        while n/8 < len(residue)/8:            \n",
    "            entry = []\n",
    "            for aminoacid in residue[n:n+8]:\n",
    "                entry.append(aminoacid_dict[aminoacid])\n",
    "            if len(entry) < 8:\n",
    "                m = 1\n",
    "                while len(entry) != 8:\n",
    "                    entry.append((data[-2][-m:-m-1:-1])[0])\n",
    "                    m += 1\n",
    "                    \n",
    "            data.append(entry)\n",
    "            past = entry\n",
    "            n += 8\n",
    "            \n",
    "d = data \n",
    "\n",
    "for entry in d:\n",
    "    if entry:\n",
    "        data.append(entry[-1:])\n",
    "        \n",
    "print(len(data))\n",
    "    \n",
    "for x in data:\n",
    "    print(x)"
   ]
  },
  {
   "cell_type": "code",
   "execution_count": null,
   "metadata": {},
   "outputs": [],
   "source": [
    "with open('data.pickle', 'rb') as handle:\n",
    "    data = pickle.load(handle)"
   ]
  },
  {
   "cell_type": "code",
   "execution_count": null,
   "metadata": {},
   "outputs": [],
   "source": [
    ""
   ]
  },
  {
   "cell_type": "code",
   "execution_count": null,
   "metadata": {},
   "outputs": [],
   "source": [
    ""
   ]
  }
 ],
 "metadata": {
  "kernelspec": {
   "display_name": "tensorflow",
   "language": "python",
   "name": "tensorflow"
  },
  "language_info": {
   "codemirror_mode": {
    "name": "ipython",
    "version": 3.0
   },
   "file_extension": ".py",
   "mimetype": "text/x-python",
   "name": "python",
   "nbconvert_exporter": "python",
   "pygments_lexer": "ipython3",
   "version": "3.5.5"
  }
 },
 "nbformat": 4,
 "nbformat_minor": 2
}