{
 "cells": [
  {
   "cell_type": "code",
   "execution_count": 1,
   "metadata": {},
   "outputs": [],
   "source": [
    "import os"
   ]
  },
  {
   "cell_type": "code",
   "execution_count": 9,
   "metadata": {},
   "outputs": [
    {
     "name": "stdout",
     "output_type": "stream",
     "text": [
      "['2NWG_LIGAND_2', '4AK2_LIGAND_1', '1RWG_LIGAND_1', '1RWF_LIGAND_1', '4DY0_LIGAND_1', '3EVJ_LIGAND_1', '3UDA_LIGAND_1', '3OGX_LIGAND_1', '3DY0_LIGAND_1', '1HM3_LIGAND_1', '1XT3_LIGAND_1', '1RID_LIGAND_1', '1U4M_LIGAND_1', '3ILR_LIGAND_3', '1OFM_LIGAND_1', '1HM2_LIGAND_1', '1OFL_LIGAND_1', '1RWC_LIGAND_1', '1U4L_LIGAND_1', '1G5N_LIGAND_2', '1AXM_LIGAND_3', '2AXM_LIGAND_1', '3IN9_LIGAND_1', '1LOH_LIGAND_1', '1ZBA_LIGAND_1', '3C9E_LIGAND_1', '1OFL_LIGAND_3', '1I8Q_LIGAND_1', '3ILR_LIGAND_1', '3ANK_LIGAND_2', '1AXM_LIGAND_1', '3UAN_LIGAND_1', '1FQ9_LIGAND_2', '2WNU_LIGAND_1', '1GMN_LIGAND_2', '2WCO_LIGAND_1', '1RWH_LIGAND_2', '1I8Q_LIGAND_2', '1C82_LIGAND_1', '3H7D_LIGAND_1', '2BRS_LIGAND_1', '3UD8_LIGAND_1', '1BFC_LIGAND_1', '1FQ9_LIGAND_1', '1LXK_LIGAND_1', '3UAN_LIGAND_2', '4C4M_LIGAND_1', '1BFB_LIGAND_1', '3IN9_LIGAND_2', '2JCQ_LIGAND_1', '3UD7_LIGAND_3', '2JCR_LIGAND_1', '1OFL_LIGAND_2', '1OJM_LIGAND_1', '1HMW_LIGAND_1', '1DBO_LIGAND_1', '3OJV_LIGAND_1', '3UD9_LIGAND_3', '1C82_LIGAND_3', '2WDA_LIGAND_5', '1HMU_LIGAND_1', '1G5N_LIGAND_1', '3INA_LIGAND_1', '3QMK_LIGAND_1', '2NWG_LIGAND_1', '1FCV_LIGAND_1', '1E0O_LIGAND_1', '3EVJ_LIGAND_2']\n"
     ]
    }
   ],
   "source": [
    "ligands = os.listdir(\"ligands/pdbqs/\")\n",
    "full_ligands = ligands\n",
    "ligands = [x.split(\".\")[0] for x in ligands]\n",
    "print(ligands)"
   ]
  },
  {
   "cell_type": "code",
   "execution_count": 11,
   "metadata": {},
   "outputs": [],
   "source": [
    "for ligand in ligands:\n",
    "    if not os.path.exists(\"run/\"+ligand):\n",
    "        os.makedirs(\"run/\"+ligand)\n",
    "\n",
    "for ligand in full_ligands:\n",
    "    try:\n",
    "        os.rename(\"ligands/pdbqs/\"+ligand, \"run/\"+ligand.split(\".\")[0]+\"/\"+ligand)\n",
    "    except:\n",
    "        pass"
   ]
  },
  {
   "cell_type": "code",
   "execution_count": null,
   "metadata": {},
   "outputs": [],
   "source": []
  }
 ],
 "metadata": {
  "kernelspec": {
   "display_name": "Python 3",
   "language": "python",
   "name": "python3"
  },
  "language_info": {
   "codemirror_mode": {
    "name": "ipython",
    "version": 3
   },
   "file_extension": ".py",
   "mimetype": "text/x-python",
   "name": "python",
   "nbconvert_exporter": "python",
   "pygments_lexer": "ipython3",
   "version": "3.6.5"
  }
 },
 "nbformat": 4,
 "nbformat_minor": 2
}
