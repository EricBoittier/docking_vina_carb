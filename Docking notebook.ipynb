{
 "cells": [
  {
   "cell_type": "code",
   "execution_count": 2,
   "metadata": {},
   "outputs": [],
   "source": [
    "import os\n",
    "import shutil"
   ]
  },
  {
   "cell_type": "code",
   "execution_count": 8,
   "metadata": {},
   "outputs": [
    {
     "name": "stdout",
     "output_type": "stream",
     "text": [
      "['flexible_phi_psi_1BFC_LIGAND_1.mol2.pdbqt', 'flexible_phi_psi_1FQ9_LIGAND_1.mol2.pdbqt', 'flexible_phi_psi_4C4M_LIGAND_1.mol2.pdbqt', 'flexible_phi_psi_3UAN_LIGAND_2.mol2.pdbqt', 'flexible_phi_psi_1LXK_LIGAND_1.mol2.pdbqt', 'flexible_phi_psi_1BFB_LIGAND_1.mol2.pdbqt', 'flexible_phi_psi_1GMN_LIGAND_2.mol2.pdbqt', 'flexible_phi_psi_1I8Q_LIGAND_2.mol2.pdbqt', 'flexible_phi_psi_1C82_LIGAND_1.mol2.pdbqt', 'flexible_phi_psi_1RWH_LIGAND_2.mol2.pdbqt', 'flexible_phi_psi_2WCO_LIGAND_1.mol2.pdbqt', 'flexible_phi_psi_3H7D_LIGAND_1.mol2.pdbqt', 'flexible_phi_psi_2BRS_LIGAND_1.mol2.pdbqt', 'flexible_phi_psi_3UD8_LIGAND_1.mol2.pdbqt', 'flexible_phi_psi_2JCR_LIGAND_1.mol2.pdbqt', 'flexible_phi_psi_3IN9_LIGAND_2.mol2.pdbqt', 'flexible_phi_psi_3UD7_LIGAND_3.mol2.pdbqt', 'flexible_phi_psi_2JCQ_LIGAND_1.mol2.pdbqt', 'flexible_phi_psi_2WDA_LIGAND_5.mol2.pdbqt', 'flexible_phi_psi_1HMU_LIGAND_1.mol2.pdbqt', 'flexible_phi_psi_3INA_LIGAND_1.mol2.pdbqt', 'flexible_phi_psi_1G5N_LIGAND_1.mol2.pdbqt', 'flexible_phi_psi_1HMW_LIGAND_1.mol2.pdbqt', 'flexible_phi_psi_1OJM_LIGAND_1.mol2.pdbqt', 'flexible_phi_psi_1OFL_LIGAND_2.mol2.pdbqt', 'flexible_phi_psi_1DBO_LIGAND_1.mol2.pdbqt', 'flexible_phi_psi_3OJV_LIGAND_1.mol2.pdbqt', 'flexible_phi_psi_1C82_LIGAND_3.mol2.pdbqt', 'flexible_phi_psi_3UD9_LIGAND_3.mol2.pdbqt', 'flexible_phi_psi_1E0O_LIGAND_1.mol2.pdbqt', 'flexible_phi_psi_3EVJ_LIGAND_2.mol2.pdbqt', 'flexible_phi_psi_3QMK_LIGAND_1.mol2.pdbqt', 'flexible_phi_psi_1FCV_LIGAND_1.mol2.pdbqt', 'flexible_phi_psi_2NWG_LIGAND_1.mol2.pdbqt', 'flexible_phi_psi_3EVJ_LIGAND_1.mol2.pdbqt', 'flexible_phi_psi_3UDA_LIGAND_1.mol2.pdbqt', 'flexible_phi_psi_3OGX_LIGAND_1.mol2.pdbqt', 'flexible_phi_psi_3DY0_LIGAND_1.mol2.pdbqt', 'flexible_phi_psi_1RWG_LIGAND_1.mol2.pdbqt', 'flexible_phi_psi_2NWG_LIGAND_2.mol2.pdbqt', 'flexible_phi_psi_4AK2_LIGAND_1.mol2.pdbqt', 'flexible_phi_psi_1RWF_LIGAND_1.mol2.pdbqt', 'flexible_phi_psi_4DY0_LIGAND_1.mol2.pdbqt', 'flexible_phi_psi_1G5N_LIGAND_2.mol2.pdbqt', 'flexible_phi_psi_1AXM_LIGAND_3.mol2.pdbqt', 'flexible_phi_psi_1XT3_LIGAND_1.mol2.pdbqt', 'flexible_phi_psi_1HM3_LIGAND_1.mol2.pdbqt', 'flexible_phi_psi_1OFM_LIGAND_1.mol2.pdbqt', 'flexible_phi_psi_3ILR_LIGAND_3.mol2.pdbqt', 'flexible_phi_psi_1U4M_LIGAND_1.mol2.pdbqt', 'flexible_phi_psi_1RID_LIGAND_1.mol2.pdbqt', 'flexible_phi_psi_1HM2_LIGAND_1.mol2.pdbqt', 'flexible_phi_psi_1U4L_LIGAND_1.mol2.pdbqt', 'flexible_phi_psi_1RWC_LIGAND_1.mol2.pdbqt', 'flexible_phi_psi_1OFL_LIGAND_1.mol2.pdbqt', 'flexible_phi_psi_1LOH_LIGAND_1.mol2.pdbqt', 'flexible_phi_psi_1ZBA_LIGAND_1.mol2.pdbqt', 'flexible_phi_psi_2AXM_LIGAND_1.mol2.pdbqt', 'flexible_phi_psi_3IN9_LIGAND_1.mol2.pdbqt', 'flexible_phi_psi_1AXM_LIGAND_1.mol2.pdbqt', 'flexible_phi_psi_3UAN_LIGAND_1.mol2.pdbqt', 'flexible_phi_psi_1FQ9_LIGAND_2.mol2.pdbqt', 'flexible_phi_psi_2WNU_LIGAND_1.mol2.pdbqt', 'flexible_phi_psi_3C9E_LIGAND_1.mol2.pdbqt', 'flexible_phi_psi_1OFL_LIGAND_3.mol2.pdbqt', 'flexible_phi_psi_1I8Q_LIGAND_1.mol2.pdbqt', 'flexible_phi_psi_3ANK_LIGAND_2.mol2.pdbqt', 'flexible_phi_psi_3ILR_LIGAND_1.mol2.pdbqt']\n",
      "['1AXM_LIGAND_1', '3ILR_LIGAND_3', '4AK2_LIGAND_1', '1DBO_LIGAND_1', '2WDA_LIGAND_5', '1RID_LIGAND_1', '3UD8_LIGAND_1', '1I8Q_LIGAND_1', '3DY0_LIGAND_1', '1BFB_LIGAND_1', '1BFC_LIGAND_1', '2NWG_LIGAND_2', '3IN9_LIGAND_1', '2WCO_LIGAND_1', '1XT3_LIGAND_1', '1RWC_LIGAND_1', '1LOH_LIGAND_1', '1G5N_LIGAND_2', '1FCV_LIGAND_1', '1OFL_LIGAND_2', '3UAN_LIGAND_1', '1FQ9_LIGAND_2', '3UD7_LIGAND_3', '1OFL_LIGAND_3', '3INA_LIGAND_1', '2JCR_LIGAND_1', '3QMK_LIGAND_1', '3OGX_LIGAND_1', '1HMW_LIGAND_1', '3EVJ_LIGAND_2', '1E0O_LIGAND_1', '3UDA_LIGAND_1', '1LXK_LIGAND_1', '1C82_LIGAND_3', '2AXM_LIGAND_1', '1U4M_LIGAND_1', '1U4L_LIGAND_1', '3UD9_LIGAND_3', '1I8Q_LIGAND_2', '1RWG_LIGAND_1', '1RWF_LIGAND_1', '3ILR_LIGAND_1', '1HM3_LIGAND_1', '1HM2_LIGAND_1', '1OJM_LIGAND_1', '1AXM_LIGAND_3', '4C4M_LIGAND_1', '3IN9_LIGAND_2', '2NWG_LIGAND_1', '3OJV_LIGAND_1', '1FQ9_LIGAND_1', '3UAN_LIGAND_2', '1G5N_LIGAND_1', '2WNU_LIGAND_1', '1OFL_LIGAND_1', '1OFM_LIGAND_1', '3H7D_LIGAND_1', '1HMU_LIGAND_1', '2BRS_LIGAND_1', '1ZBA_LIGAND_1', '1RWH_LIGAND_2', '3C9E_LIGAND_1', '1C82_LIGAND_1', '2JCQ_LIGAND_1', '4DY0_LIGAND_1', '1GMN_LIGAND_2', '3EVJ_LIGAND_1', '3ANK_LIGAND_2']\n"
     ]
    }
   ],
   "source": [
    "ligands = os.listdir(\"run\")\n",
    "full_ligands = ligands\n",
    "folders = [x for x in ligands if (not x.__contains__(\"flexible\") and x.__contains__(\"LIGAND\"))]\n",
    "ligands = [x for x in ligands if x.__contains__(\"flexible\")]\n",
    "print(ligands)\n",
    "print(folders)\n"
   ]
  },
  {
   "cell_type": "code",
   "execution_count": 10,
   "metadata": {},
   "outputs": [],
   "source": [
    "for folder in folders:\n",
    "    for ligand in ligands:\n",
    "        if ligand.__contains__(folder):\n",
    "            shutil.copy(\"run/\"+ligand, \"run/\"+folder)"
   ]
  },
  {
   "cell_type": "code",
   "execution_count": 13,
   "metadata": {},
   "outputs": [],
   "source": [
    "for ligand in ligands:\n",
    "    if not os.path.exists(\"run/\"+ligand):\n",
    "        os.makedirs(\"run/\"+ligand)\n",
    "\n",
    "for ligand in full_ligands:\n",
    "    try:\n",
    "        os.rename(\"ligands/pdbqs/\"+ligand, \"run/\"+ligand.split(\".\")[0]+\"/\"+ligand)\n",
    "    except:\n",
    "        pass"
   ]
  },
  {
   "cell_type": "code",
   "execution_count": 21,
   "metadata": {},
   "outputs": [
    {
     "name": "stdout",
     "output_type": "stream",
     "text": [
      "1HPN_LIGAND_1\n",
      "1RID_LIGAND_2\n",
      "1AXM_LIGAND_2\n",
      "2LVZ_LIGAND_1\n"
     ]
    }
   ],
   "source": [
    "configs = os.listdir(\"configs/\")\n",
    "for config in configs:\n",
    "    print(config.split(\".\")[0])\n",
    "    try:\n",
    "        os.rename(\"configs/\"+config, \"run/\"+config.split(\".\")[0]+\"/\"+config)\n",
    "    except:\n",
    "        pass"
   ]
  },
  {
   "cell_type": "code",
   "execution_count": 40,
   "metadata": {},
   "outputs": [],
   "source": [
    "receptors = os.listdir(\"receptors/\")\n",
    "receptor_dictionary = {}\n",
    "for rec in receptors:\n",
    "    receptor_dictionary[rec.split(\"_\")[0]] = \"receptors/\"+rec"
   ]
  },
  {
   "cell_type": "code",
   "execution_count": 45,
   "metadata": {},
   "outputs": [
    {
     "name": "stdout",
     "output_type": "stream",
     "text": [
      "1AXM\n",
      "3ILR\n",
      "4AK2\n",
      "1DBO\n",
      "2WDA\n",
      "1RID\n",
      "3UD8\n",
      "1I8Q\n",
      "3DY0\n",
      "1BFB\n",
      "1BFC\n",
      "2NWG\n",
      "3IN9\n",
      "2WCO\n",
      "1XT3\n",
      "1RWC\n",
      "1LOH\n",
      "1G5N\n",
      "1FCV\n",
      "1OFL\n",
      "3UAN\n",
      "1FQ9\n",
      "3UD7\n",
      "1OFL\n",
      "3INA\n",
      "2JCR\n",
      "3QMK\n",
      "3OGX\n",
      "1HMW\n",
      "3EVJ\n",
      "1E0O\n",
      "3UDA\n",
      "1LXK\n",
      "1C82\n",
      "2AXM\n",
      "1U4M\n",
      "1U4L\n",
      "3UD9\n",
      "1I8Q\n",
      "1RWG\n",
      "1RWF\n",
      "3ILR\n",
      "1HM3\n",
      "1HM2\n",
      "1OJM\n",
      "1AXM\n",
      "4C4M\n",
      "3IN9\n",
      "2NWG\n",
      "3OJV\n",
      "1FQ9\n",
      "3UAN\n",
      "1G5N\n",
      "2WNU\n",
      "1OFL\n",
      "1OFM\n",
      "3H7D\n",
      "1HMU\n",
      "2BRS\n",
      "1ZBA\n",
      "1RWH\n",
      "3C9E\n",
      "1C82\n",
      "2JCQ\n",
      "4DY0\n",
      "1GMN\n",
      "3EVJ\n",
      "3ANK\n"
     ]
    }
   ],
   "source": [
    "for r in os.listdir(\"run\"):\n",
    "    if r.__contains__(\"_LIGAND_\"):\n",
    "        try:\n",
    "            print(r.split(\"_\")[0])\n",
    "            shutil.move(receptor_dictionary[r.split(\"_\")[0]], \"run/\"+r+\"/\"+receptor_dictionary[r.split(\"_\")[0]].split(\"/\")[-1])\n",
    "        except:\n",
    "            pass\n"
   ]
  },
  {
   "cell_type": "code",
   "execution_count": null,
   "metadata": {},
   "outputs": [],
   "source": []
  }
 ],
 "metadata": {
  "kernelspec": {
   "display_name": "Python 3",
   "language": "python",
   "name": "python3"
  },
  "language_info": {
   "codemirror_mode": {
    "name": "ipython",
    "version": 3
   },
   "file_extension": ".py",
   "mimetype": "text/x-python",
   "name": "python",
   "nbconvert_exporter": "python",
   "pygments_lexer": "ipython3",
   "version": "3.6.5"
  }
 },
 "nbformat": 4,
 "nbformat_minor": 2
}
